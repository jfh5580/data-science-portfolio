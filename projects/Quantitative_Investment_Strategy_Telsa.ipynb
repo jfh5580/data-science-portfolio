{
  "nbformat": 4,
  "nbformat_minor": 0,
  "metadata": {
    "colab": {
      "private_outputs": true,
      "provenance": []
    },
    "kernelspec": {
      "name": "python3",
      "display_name": "Python 3"
    },
    "language_info": {
      "name": "python"
    }
  },
  "cells": [
    {
      "cell_type": "markdown",
      "source": [
        "Basic Setting"
      ],
      "metadata": {
        "id": "Cxw7bgaVMkJb"
      }
    },
    {
      "cell_type": "code",
      "source": [
        "!pip install finance-datareader"
      ],
      "metadata": {
        "id": "PESsF4dw6xWb"
      },
      "execution_count": null,
      "outputs": []
    },
    {
      "cell_type": "code",
      "source": [
        "!pip install pandas_market_calendars"
      ],
      "metadata": {
        "id": "7Vm9VQNK-MpF"
      },
      "execution_count": null,
      "outputs": []
    },
    {
      "cell_type": "markdown",
      "source": [
        "Tesla Stock Data Retrieval and Visualization"
      ],
      "metadata": {
        "id": "OltY_Qh1MncC"
      }
    },
    {
      "cell_type": "code",
      "execution_count": null,
      "metadata": {
        "id": "EE5nhEM46qOQ"
      },
      "outputs": [],
      "source": [
        "import FinanceDataReader as fdr\n",
        "import matplotlib.pyplot as plt\n",
        "# Tesla stock code: TSLA\n",
        "stock_code = 'TSLA'\n",
        "\n",
        "# Fetching stock price data from January 1, 2015, to November 29, 2023\n",
        "start_date = '2015-01-01'\n",
        "end_date = '2023-11-29'\n",
        "tesla_stock = fdr.DataReader(stock_code, start_date, end_date)\n",
        "\n",
        "# Checking the data\n",
        "print(tesla_stock.head(-10))\n",
        "\n",
        "# Visualizing stock prices\n",
        "tesla_stock['Close'].plot(title='Tesla Stock Price (2015-2023)')\n",
        "plt.show()\n"
      ]
    },
    {
      "cell_type": "markdown",
      "source": [
        "## Highest Daily Return and profit investment strategy"
      ],
      "metadata": {
        "id": "cUF06jW4RFma"
      }
    },
    {
      "cell_type": "markdown",
      "source": [
        "Identifying Top 10 Days with Highest Daily Returns for Tesla Stock"
      ],
      "metadata": {
        "id": "HfwqV64IOEQP"
      }
    },
    {
      "cell_type": "code",
      "source": [
        "# Fetching Tesla Stock Data: TSLA\n",
        "stock_code = 'TSLA'\n",
        "\n",
        "# Fetching stock price data from January 1, 2015, to November 29, 2023\n",
        "start_date = '2015-01-01'\n",
        "end_date = '2023-11-29'\n",
        "tesla_stock = fdr.DataReader(stock_code, start_date, end_date)\n",
        "\n",
        "# Calculating Daily Returns\n",
        "tesla_stock['Daily_Return'] = tesla_stock['Close'].pct_change()\n",
        "\n",
        "# Sorting by Daily Returns to Get the Top 10 Days\n",
        "top_10_days = tesla_stock.sort_values(by='Daily_Return', ascending=False).head(10)\n",
        "\n",
        "# Displaying Results\n",
        "print(\"Top 10 Days with the Highest Daily Returns for Tesla:\")\n",
        "print(top_10_days[['Close', 'Daily_Return']])\n"
      ],
      "metadata": {
        "id": "B6XIWEUh6tDU"
      },
      "execution_count": null,
      "outputs": []
    },
    {
      "cell_type": "markdown",
      "source": [
        "Profits for top 10 days with highest return"
      ],
      "metadata": {
        "id": "JhpMr7aBOZNk"
      }
    },
    {
      "cell_type": "code",
      "source": [
        "import FinanceDataReader as fdr\n",
        "import pandas as pd\n",
        "import pandas_market_calendars as mcal\n",
        "\n",
        "# Fetching Tesla Stock Data: TSLA\n",
        "stock_code = 'TSLA'\n",
        "\n",
        "# Fetching stock price data from January 1, 2015, to November 28, 2023\n",
        "start_date = '2015-01-01'\n",
        "end_date = '2023-11-28'\n",
        "tesla_stock = fdr.DataReader(stock_code, start_date, end_date)\n",
        "\n",
        "# Calculating Daily Returns\n",
        "tesla_stock['Daily_Return'] = tesla_stock['Close'].pct_change()\n",
        "\n",
        "# Loading the New York Stock Exchange (XNYS) calendar\n",
        "nyse = mcal.get_calendar('XNYS')\n",
        "\n",
        "# Sorting by Daily Returns to Get the Top 10 Days\n",
        "top_10_days = tesla_stock.sort_values(by='Daily_Return', ascending=False).head(10)\n",
        "\n",
        "# Storing information for each trade\n",
        "trade_info = []\n",
        "\n",
        "for buy_date, row in top_10_days.iterrows():\n",
        "    # Skipping if it's a non-trading day\n",
        "    if not nyse.valid_days(start_date=buy_date, end_date=buy_date).size:\n",
        "        continue\n",
        "\n",
        "    sell_date = tesla_stock.loc[buy_date:].idxmax()['Close']  # Setting the day with the highest closing price as the selling date\n",
        "    buy_price = tesla_stock.loc[buy_date, 'Close']\n",
        "    sell_price = tesla_stock.loc[sell_date, 'Close']\n",
        "    profit = sell_price - buy_price\n",
        "    return_rate = (sell_price / buy_price - 1)\n",
        "\n",
        "    trade_info.append({\n",
        "        'Buy_Date': buy_date,\n",
        "        'Sell_Date': sell_date,\n",
        "        'Buy_Price': buy_price,\n",
        "        'Sell_Price': sell_price,\n",
        "        'Profit': profit,\n",
        "        'Return_Rate': return_rate\n",
        "    })\n",
        "\n",
        "# Displaying trade information\n",
        "print(\"Trade Information for Each Trade:\")\n",
        "for i, info in enumerate(trade_info, 1):\n",
        "    print(f\"Trade {i}: Purchase Date: {info['Buy_Date']}, Sale Date: {info['Sell_Date']}, Purchase Price: ${info['Buy_Price']:.2f}, Sale Price: ${info['Sell_Price']:.2f}, Profit: ${info['Profit']:.2f}, Return Rate: {info['Return_Rate']:.2%}\\n\")\n",
        "\n",
        "# Calculating the average return for all trades\n",
        "average_return = sum(info['Return_Rate'] for info in trade_info) / len(trade_info)\n",
        "\n",
        "# Displaying the average return for all trades\n",
        "print(\"Average Return for All Trades:\")\n",
        "print(f\"{average_return:.2%}\")\n",
        "\n"
      ],
      "metadata": {
        "id": "qN8O9DlZ9Yd2"
      },
      "execution_count": null,
      "outputs": []
    },
    {
      "cell_type": "markdown",
      "source": [
        "Profits for top 100 days with highest return"
      ],
      "metadata": {
        "id": "HJ8unrrcOhbr"
      }
    },
    {
      "cell_type": "code",
      "source": [
        "# Sorting by Daily Returns to Get the Top 100 Days\n",
        "top_100_days = tesla_stock.sort_values(by='Daily_Return', ascending=False).head(100)\n",
        "\n",
        "# Storing information for each trade\n",
        "trade_info = []\n",
        "\n",
        "for buy_date, row in top_100_days.iterrows():\n",
        "    # Skipping if it's a non-trading day\n",
        "    if not nyse.valid_days(start_date=buy_date, end_date=buy_date).size:\n",
        "        continue\n",
        "\n",
        "    # Setting the day with the highest closing price as the selling date\n",
        "    sell_date = tesla_stock.loc[buy_date:].idxmax()['Close']\n",
        "    buy_price = tesla_stock.loc[buy_date, 'Close']\n",
        "    sell_price = tesla_stock.loc[sell_date, 'Close']\n",
        "    profit = sell_price - buy_price\n",
        "    return_rate = (sell_price / buy_price - 1)\n",
        "\n",
        "    trade_info.append({\n",
        "        'Buy_Date': buy_date,\n",
        "        'Sell_Date': sell_date,\n",
        "        'Buy_Price': buy_price,\n",
        "        'Sell_Price': sell_price,\n",
        "        'Profit': profit,\n",
        "        'Return_Rate': return_rate\n",
        "    })\n",
        "\n",
        "# Displaying trade information\n",
        "print(\"Trade Information for Each Trade:\")\n",
        "for i, info in enumerate(trade_info, 1):\n",
        "    print(f\"Trade {i}: Purchase Date: {info['Buy_Date']}, Sale Date: {info['Sell_Date']}, Purchase Price: ${info['Buy_Price']:.2f}, Sale Price: ${info['Sell_Price']:.2f}, Profit: ${info['Profit']:.2f}, Return Rate: {info['Return_Rate']:.2%}\\n\")\n",
        "\n",
        "# Calculating the average return for all trades\n",
        "average_return = sum(info['Return_Rate'] for info in trade_info) / len(trade_info)\n",
        "\n",
        "# Displaying the average return for all trades\n",
        "print(\"Average Return for All Trades:\")\n",
        "print(f\"{average_return:.2%}\")\n"
      ],
      "metadata": {
        "id": "uFMG_IQAAjE4"
      },
      "execution_count": null,
      "outputs": []
    },
    {
      "cell_type": "markdown",
      "source": [
        "\n",
        "According to the results, it may seem profitable to buy Tesla stock on days with significant intraday gains, but in the long term, most of these high-gain days are around 2020, and it appears that this strategy might not work well after reaching the peak. Therefore, it would be advisable to examine the results for the year 2023 to get a clearer picture."
      ],
      "metadata": {
        "id": "Li8aIKdnPAEb"
      }
    },
    {
      "cell_type": "markdown",
      "source": [
        "Only 2023"
      ],
      "metadata": {
        "id": "uoO9pO4fEvwP"
      }
    },
    {
      "cell_type": "code",
      "source": [
        "import FinanceDataReader as fdr\n",
        "import pandas as pd\n",
        "import pandas_market_calendars as mcal\n",
        "\n",
        "# Tesla stock code: TSLA\n",
        "stock_code = 'TSLA'\n",
        "\n",
        "# Get stock price data from January 1, 2023, to November 28, 2023\n",
        "start_date = '2023-01-01'\n",
        "end_date = '2023-11-28'\n",
        "tesla_stock = fdr.DataReader(stock_code, start_date, end_date)\n",
        "\n",
        "# Calculate daily returns\n",
        "tesla_stock['Daily_Return'] = tesla_stock['Close'].pct_change()\n",
        "\n",
        "# Load the New York Stock Exchange (XNYS) calendar\n",
        "nyse = mcal.get_calendar('XNYS')\n",
        "\n",
        "# Sort by the highest daily returns and get the top 10\n",
        "top_10_days = tesla_stock.sort_values(by='Daily_Return', ascending=False).head(10)\n",
        "\n",
        "# Store information for each trade\n",
        "trade_info = []\n",
        "\n",
        "for buy_date, row in top_10_days.iterrows():\n",
        "    # Skip if it's a non-trading day\n",
        "    if not nyse.valid_days(start_date=buy_date, end_date=buy_date).size:\n",
        "        continue\n",
        "\n",
        "    # Set the day with the highest closing price as the selling date\n",
        "    sell_date = tesla_stock.loc[buy_date:].idxmax()['Close']\n",
        "    buy_price = tesla_stock.loc[buy_date, 'Close']\n",
        "    sell_price = tesla_stock.loc[sell_date, 'Close']\n",
        "    profit = sell_price - buy_price\n",
        "    return_rate = (sell_price / buy_price - 1)\n",
        "\n",
        "    trade_info.append({\n",
        "        'Buy_Date': buy_date,\n",
        "        'Sell_Date': sell_date,\n",
        "        'Buy_Price': buy_price,\n",
        "        'Sell_Price': sell_price,\n",
        "        'Profit': profit,\n",
        "        'Return_Rate': return_rate\n",
        "    })\n",
        "\n",
        "# Display trade information\n",
        "print(\"Trade Information for Each Trade:\")\n",
        "for i, info in enumerate(trade_info, 1):\n",
        "    print(f\"Trade {i}: Purchase Date: {info['Buy_Date']}, Sale Date: {info['Sell_Date']}, Purchase Price: ${info['Buy_Price']:.2f}, Sale Price: ${info['Sell_Price']:.2f}, Profit: ${info['Profit']:.2f}, Return Rate: {info['Return_Rate']:.2%}\\n\")\n",
        "\n",
        "# Calculate the average return for all trades\n",
        "average_return = sum(info['Return_Rate'] for info in trade_info) / len(trade_info)\n",
        "\n",
        "# Display the average return for all trades\n",
        "print(\"Average Return for All Trades:\")\n",
        "print(f\"{average_return:.2%}\")"
      ],
      "metadata": {
        "id": "1MicVxi6EvCh"
      },
      "execution_count": null,
      "outputs": []
    },
    {
      "cell_type": "markdown",
      "source": [
        " 2023-07-18 : Tesla Q2 2023 earnings expectations: Cybertruck news\n",
        "\n",
        " 2023-09-14 :\n",
        "Tesla surged by 10.09% after Morgan Stanley upgraded its stock recommendation from \"Hold\" to \"Buy,\" citing high praise for its artificial intelligence (AI) capabilities. The analyst at Morgan Stanley, Adam Jonas, highly evaluated Tesla's AI capabilities and estimated that the supercomputer introduced by Tesla could add approximately $500 billion in value.\n",
        "\n",
        "\n",
        "In the case of 2023, except for two significant events, expecting profits was challenging, and even excluding those events, it was a situation challenging to anticipate. Considering that Tesla stock is around $200 as of November 2023, those who purchased around 2020 might profit from selling, but for those who recently bought, holding for the long term could be a key strategy. Currently, it seems challenging to gain immediate profits."
      ],
      "metadata": {
        "id": "vtSTeepYFbYf"
      }
    },
    {
      "cell_type": "markdown",
      "source": [
        "## The worst-performing days and calculate the returns for a simple buy-and-sell strategy"
      ],
      "metadata": {
        "id": "8og5KOuzRv7a"
      }
    },
    {
      "cell_type": "markdown",
      "source": [
        "\n",
        "Calculating the profit and average profit for a strategy based on buying at the closing price on the 10 days with the biggest drops and selling the next day."
      ],
      "metadata": {
        "id": "N4K16zMXA2gM"
      }
    },
    {
      "cell_type": "code",
      "source": [
        "import FinanceDataReader as fdr\n",
        "import pandas as pd\n",
        "import pandas_market_calendars as mcal\n",
        "\n",
        "# Tesla stock code: TSLA\n",
        "stock_code = 'TSLA'\n",
        "\n",
        "# Get stock price data from January 1, 2015, to November 28, 2023\n",
        "start_date = '2015-01-01'\n",
        "end_date = '2023-11-28'\n",
        "tesla_stock = fdr.DataReader(stock_code, start_date, end_date)\n",
        "\n",
        "# Calculate daily returns\n",
        "tesla_stock['Daily_Return'] = tesla_stock['Close'].pct_change()\n",
        "\n",
        "# Load the New York Stock Exchange (XNYS) calendar\n",
        "nyse = mcal.get_calendar('XNYS')\n",
        "\n",
        "# Sort by the lowest daily returns and get the bottom 10\n",
        "worst_10_days = tesla_stock.sort_values(by='Daily_Return', ascending=True).head(10)\n",
        "\n",
        "# Store information for each trade\n",
        "trade_info = []\n",
        "\n",
        "for buy_date, row in worst_10_days.iterrows():\n",
        "    # Skip if it's a non-trading day\n",
        "    if not nyse.valid_days(start_date=buy_date, end_date=buy_date).size:\n",
        "        continue\n",
        "\n",
        "    # Sell at the closing price the next day\n",
        "    sell_date = tesla_stock.loc[buy_date:].iloc[1].name\n",
        "    buy_price = tesla_stock.loc[buy_date, 'Close']\n",
        "    sell_price = tesla_stock.loc[sell_date, 'Close']\n",
        "    profit = sell_price - buy_price\n",
        "    return_rate = (sell_price / buy_price - 1)\n",
        "\n",
        "    trade_info.append({\n",
        "        'Buy_Date': buy_date,\n",
        "        'Sell_Date': sell_date,\n",
        "        'Buy_Price': buy_price,\n",
        "        'Sell_Price': sell_price,\n",
        "        'Profit': profit,\n",
        "        'Return_Rate': return_rate\n",
        "    })\n",
        "\n",
        "# Display trade information\n",
        "print(\"Trade Information for Each Trade:\")\n",
        "for i, info in enumerate(trade_info, 1):\n",
        "    print(f\"Trade {i}: Purchase Date: {info['Buy_Date']}, Sale Date: {info['Sell_Date']}, Purchase Price: ${info['Buy_Price']:.2f}, Sale Price: ${info['Sell_Price']:.2f}, Profit: ${info['Profit']:.2f}, Return Rate: {info['Return_Rate']:.2%}\\n\")\n",
        "\n",
        "# Calculate the average return for all trades\n",
        "average_return = sum(info['Return_Rate'] for info in trade_info) / len(trade_info)\n",
        "\n",
        "# Display the average return for all trades\n",
        "print(\"Average Return for All Trades:\")\n",
        "print(f\"{average_return:.2%}\")\n"
      ],
      "metadata": {
        "id": "RLEYL8vFB6CZ"
      },
      "execution_count": null,
      "outputs": []
    },
    {
      "cell_type": "markdown",
      "source": [
        "only 2023"
      ],
      "metadata": {
        "id": "ta99rVNXB-nf"
      }
    },
    {
      "cell_type": "code",
      "source": [
        "import FinanceDataReader as fdr\n",
        "import pandas as pd\n",
        "import pandas_market_calendars as mcal\n",
        "\n",
        "# Tesla stock code: TSLA\n",
        "stock_code = 'TSLA'\n",
        "\n",
        "# Get stock price data from January 1, 2023, to November 28, 2023\n",
        "start_date = '2023-01-01'\n",
        "end_date = '2023-11-28'\n",
        "tesla_stock = fdr.DataReader(stock_code, start_date, end_date)\n",
        "\n",
        "# Calculate daily returns\n",
        "tesla_stock['Daily_Return'] = tesla_stock['Close'].pct_change()\n",
        "\n",
        "# Load the New York Stock Exchange (XNYS) calendar\n",
        "nyse = mcal.get_calendar('XNYS')\n",
        "\n",
        "# Sort by the lowest daily returns and get the bottom 10\n",
        "worst_10_days = tesla_stock.sort_values(by='Daily_Return', ascending=True).head(10)\n",
        "\n",
        "# Store information for each trade\n",
        "trade_info = []\n",
        "\n",
        "for buy_date, row in worst_10_days.iterrows():\n",
        "    # Skip if it's a non-trading day\n",
        "    if not nyse.valid_days(start_date=buy_date, end_date=buy_date).size:\n",
        "        continue\n",
        "\n",
        "    # Sell at the closing price the next day\n",
        "    sell_date = tesla_stock.loc[buy_date:].iloc[1].name\n",
        "    buy_price = tesla_stock.loc[buy_date, 'Close']\n",
        "    sell_price = tesla_stock.loc[sell_date, 'Close']\n",
        "    profit = sell_price - buy_price\n",
        "    return_rate = (sell_price / buy_price - 1)\n",
        "\n",
        "    trade_info.append({\n",
        "        'Buy_Date': buy_date,\n",
        "        'Sell_Date': sell_date,\n",
        "        'Buy_Price': buy_price,\n",
        "        'Sell_Price': sell_price,\n",
        "        'Profit': profit,\n",
        "        'Return_Rate': return_rate\n",
        "    })\n",
        "\n",
        "# Display trade information\n",
        "print(\"Trade Information for Each Trade:\")\n",
        "for i, info in enumerate(trade_info, 1):\n",
        "    print(f\"Trade {i}: Purchase Date: {info['Buy_Date']}, Sale Date: {info['Sell_Date']}, Purchase Price: ${info['Buy_Price']:.2f}, Sale Price: ${info['Sell_Price']:.2f}, Profit: ${info['Profit']:.2f}, Return Rate: {info['Return_Rate']:.2%}\\n\")\n",
        "\n",
        "# Calculate the average return for all trades\n",
        "average_return = sum(info['Return_Rate'] for info in trade_info) / len(trade_info)\n",
        "\n",
        "# Display the average return for all trades\n",
        "print(\"Average Return for All Trades:\")\n",
        "print(f\"{average_return:.2%}\")\n"
      ],
      "metadata": {
        "id": "cMZxZ8xdEilJ"
      },
      "execution_count": null,
      "outputs": []
    },
    {
      "cell_type": "markdown",
      "source": [
        "Whether a 1.40% average return is considered good depends on various factors, including your investment goals, risk tolerance, and the prevailing market conditions. Here are a few points to consider:\n",
        "\n",
        "* Market Conditions: Understanding the broader market conditions during the analyzed period is crucial. If the market, in general, was experiencing high volatility, a 1.40% average return might be reasonable.\n",
        "\n",
        "* Risk Tolerance: Different investors have different risk tolerances. A higher return often comes with higher risk. Consider whether the level of risk associated with this strategy aligns with your risk tolerance.\n",
        "\n",
        "* Benchmarking: Compare the average return against relevant benchmarks, such as the overall market performance or other investments. This can provide context for evaluating the strategy's effectiveness.\n",
        "\n",
        "* Consistency: Assess if the strategy consistently performs well over time or if the average return is influenced by specific market conditions. Consistency is often an essential factor in evaluating the robustness of a trading strategy.\n",
        "\n",
        "* Transaction Costs and Taxes: Remember to account for transaction costs (fees, commissions) and potential tax implications, as these can significantly impact the net return.\n",
        "\n",
        "It's important to note that past performance is not necessarily indicative of future results. Before making any investment decisions, it's recommended to conduct thorough research, possibly consult with financial advisors, and consider your own financial situation and goals. Additionally, backtesting results, such as those obtained in this simulation, may not fully represent the actual results that would be achieved in a real-world trading environment."
      ],
      "metadata": {
        "id": "Rh0Q6k4mTC4K"
      }
    },
    {
      "cell_type": "markdown",
      "source": [
        "Visualization"
      ],
      "metadata": {
        "id": "pnBclrnoO47w"
      }
    },
    {
      "cell_type": "code",
      "source": [
        "import matplotlib.pyplot as plt\n",
        "\n",
        "# Visualizing individual trade returns\n",
        "plt.figure(figsize=(10, 6))\n",
        "for i, info in enumerate(trade_info, 1):\n",
        "    plt.bar(i, info['Return_Rate'], color='red' if info['Return_Rate'] < 0 else 'green')\n",
        "\n",
        "plt.title('Individual Trade Returns')\n",
        "plt.xlabel('Trade Number')\n",
        "plt.ylabel('Return Rate')\n",
        "plt.xticks(range(1, len(trade_info) + 1))\n",
        "plt.show()\n"
      ],
      "metadata": {
        "id": "BvIhrjAaLVhY"
      },
      "execution_count": null,
      "outputs": []
    },
    {
      "cell_type": "code",
      "source": [],
      "metadata": {
        "id": "JQ_kgPR2Vo_s"
      },
      "execution_count": null,
      "outputs": []
    }
  ]
}